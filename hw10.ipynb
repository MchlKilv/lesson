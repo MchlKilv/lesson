{
 "cells": [
  {
   "cell_type": "code",
   "execution_count": 1,
   "id": "42aec35d-0c6e-4582-9049-2a37ac4528f2",
   "metadata": {},
   "outputs": [
    {
     "name": "stdout",
     "output_type": "stream",
     "text": [
      "   whoAmI\n",
      "0   human\n",
      "1   robot\n",
      "2   human\n",
      "3   robot\n",
      "4   human\n",
      "5   human\n",
      "6   robot\n",
      "7   human\n",
      "8   robot\n",
      "9   human\n",
      "10  robot\n",
      "11  human\n",
      "12  robot\n",
      "13  robot\n",
      "14  human\n",
      "15  human\n",
      "16  human\n",
      "17  robot\n",
      "18  robot\n",
      "19  robot\n",
      "\n",
      "    human  robot\n",
      "0       1      0\n",
      "1       0      1\n",
      "2       1      0\n",
      "3       0      1\n",
      "4       1      0\n",
      "5       1      0\n",
      "6       0      1\n",
      "7       1      0\n",
      "8       0      1\n",
      "9       1      0\n",
      "10      0      1\n",
      "11      1      0\n",
      "12      0      1\n",
      "13      0      1\n",
      "14      1      0\n",
      "15      1      0\n",
      "16      1      0\n",
      "17      0      1\n",
      "18      0      1\n",
      "19      0      1\n"
     ]
    }
   ],
   "source": [
    "# Задача 44:\n",
    "# В ячейке ниже представлен код генерирующий DataFrame, которая состоит всего из 1 столбца.\n",
    "# Ваша задача перевести его в one hot вид.\n",
    "# Сможете ли вы это сделать без get_dummies?\n",
    "\n",
    "import pandas as pd\n",
    "import numpy as np\n",
    "import random\n",
    "\n",
    "lst = [\"robot\"] * 10\n",
    "lst += [\"human\"] * 10\n",
    "random.shuffle(lst)\n",
    "data = pd.DataFrame({\"whoAmI\": lst})\n",
    "print(data)\n",
    "\n",
    "print(\"\")\n",
    "\n",
    "data[\"tmp\"] = 1\n",
    "data.set_index([data.index, \"whoAmI\"], inplace=True)\n",
    "data = data.unstack(level=-1, fill_value=0).astype(int)\n",
    "data.columns = data.columns.droplevel()\n",
    "data.columns.name = None\n",
    "print(data)"
   ]
  },
  {
   "cell_type": "code",
   "execution_count": null,
   "id": "8fc3114e-e126-4860-860d-c9d5b8bb5766",
   "metadata": {},
   "outputs": [],
   "source": []
  }
 ],
 "metadata": {
  "kernelspec": {
   "display_name": "Python 3 (ipykernel)",
   "language": "python",
   "name": "python3"
  },
  "language_info": {
   "codemirror_mode": {
    "name": "ipython",
    "version": 3
   },
   "file_extension": ".py",
   "mimetype": "text/x-python",
   "name": "python",
   "nbconvert_exporter": "python",
   "pygments_lexer": "ipython3",
   "version": "3.11.4"
  }
 },
 "nbformat": 4,
 "nbformat_minor": 5
}
